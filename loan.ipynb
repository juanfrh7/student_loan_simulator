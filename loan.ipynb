{
 "cells": [
  {
   "cell_type": "markdown",
   "metadata": {},
   "source": [
    "# Finding the Optimal Split Between BSc and MSc Loans\n",
    "\n",
    "This notebook analyzes the optimal way to repay two student loans — one for a BSc degree and one for an MSc degree — using a fixed total monthly payment. The objective is to minimize the total repayment time and/or the total interest paid by experimenting with different ways to split the payment between the two loans.\n",
    "\n",
    "We simulate concurrent repayment, where any leftover payment from one loan (once paid off) is reallocated to the other. The notebook includes two main approaches:\n",
    "\n",
    "1. **Fixed payments scenario** – where we simulate repayment of each loan separately.\n",
    "2. **Dynamic optimization scenario** – where we try various payment splits to find the best strategy.\n",
    "\n",
    "\n",
    "**Loan Parameters and Setup for Simulation**\n",
    "\n",
    "We define:\n",
    "- Total monthly payment capacity.\n",
    "- Loan principals and interest rates for BSc and MSc loans.\n",
    "- Monthly interest rates derived from annual interest.\n",
    "\n",
    "To determine the best way to split the payment, we iterate over possible BSc allocations (`payment_bsc`) and derive the corresponding MSc amount. We simulate each configuration and retain the one with the lowest number of repayment months (with a fallback option to compare interest paid).\n",
    "\n",
    "Important constraints:\n",
    "- Monthly payment to each loan must be greater than its monthly interest — otherwise, the principal will never decrease."
   ]
  },
  {
   "cell_type": "code",
   "execution_count": null,
   "metadata": {},
   "outputs": [],
   "source": [
    "def simulate_loan(principal, monthly_interest_rate, monthly_payment):\n",
    "    \"\"\"\n",
    "    Simulate the repayment of a loan.\n",
    "\n",
    "    Parameters:\n",
    "      principal (float): The initial loan amount.\n",
    "      annual_interest_rate (float): Annual interest rate (in percent, e.g., 7 for 7%).\n",
    "      monthly_payment (float): The amount paid each month.\n",
    "\n",
    "    Returns:\n",
    "      months (int): Number of months needed to pay off the loan.\n",
    "      total_interest (float): Total interest paid over the life of the loan.\n",
    "    \"\"\"\n",
    "    total_interest = 0.0\n",
    "    months = 0\n",
    "\n",
    "    # Check if the monthly payment is enough to cover at least the interest.\n",
    "    if monthly_payment <= principal * monthly_interest_rate:\n",
    "        print(principal * monthly_interest_rate)\n",
    "        raise ValueError(\"Monthly payment is too low to cover even the monthly interest. \"\n",
    "                         \"The loan will never be paid off.\")\n",
    "\n",
    "    while principal > 0:\n",
    "        # Calculate interest for the current month\n",
    "        interest = principal * monthly_interest_rate\n",
    "        # Update principal: add interest, subtract payment\n",
    "        principal = principal + interest - monthly_payment\n",
    "        # Accumulate total interest paid\n",
    "        total_interest += interest\n",
    "        months += 1\n",
    "\n",
    "        # If the last payment overpays, we can adjust (optional)\n",
    "        if principal < 0:\n",
    "            break\n",
    "\n",
    "    return months, total_interest"
   ]
  },
  {
   "cell_type": "markdown",
   "metadata": {},
   "source": [
    "## Scenario 1: Minimum Required Payments\n",
    "\n",
    "This section simulates each loan independently using only the minimum required payments — just enough to gradually pay off each loan.\n",
    "\n",
    "This allows us to:\n",
    "- Establish a baseline of how long each loan would take to repay.\n",
    "- Evaluate how much interest would accumulate under minimum effort.\n",
    "\n",
    "We use the `simulate_loan` function here to isolate and study each loan’s behavior independently."
   ]
  },
  {
   "cell_type": "code",
   "execution_count": 8,
   "metadata": {},
   "outputs": [
    {
     "name": "stdout",
     "output_type": "stream",
     "text": [
      "BSC\n",
      "Number of months: 234\n",
      "Number of years: 19.5\n",
      "Total amount of interst paid: 16612.11359556322\n",
      "MSC\n",
      "Number of months: 157\n",
      "Number of years: 13.083333333333334\n",
      "Total amount of interst paid: 6717.788970450137\n"
     ]
    }
   ],
   "source": [
    "principal_bsc = 34767.08 \n",
    "principal_msc = 12108.60  \n",
    "monthly_rate_bsc = 4.3 / 100 / 12\n",
    "monthly_rate_msc = 7.3 / 100 / 12\n",
    "monthly_payment_bsc = 220\n",
    "monthly_payment_msc = 120\n",
    "\n",
    "months_bsc, total_interest_bsc = simulate_loan(principal=principal_bsc, monthly_interest_rate=monthly_rate_bsc, monthly_payment=monthly_payment_bsc)\n",
    "months_msc, total_interest_msc = simulate_loan(principal=principal_msc, monthly_interest_rate=monthly_rate_msc, monthly_payment=monthly_payment_msc)\n",
    "\n",
    "print(\"BSC\")\n",
    "print(f\"Number of months: {months_bsc}\")\n",
    "print(f\"Number of years: {months_bsc/12}\")\n",
    "print(f\"Total amount of interst paid: {total_interest_bsc}\")\n",
    "\n",
    "print(\"MSC\")\n",
    "print(f\"Number of months: {months_msc}\")\n",
    "print(f\"Number of years: {months_msc/12}\")\n",
    "print(f\"Total amount of interst paid: {total_interest_msc}\")"
   ]
  },
  {
   "cell_type": "markdown",
   "metadata": {},
   "source": [
    "## Scenario 2: Paying Extra Each Month\n",
    "\n",
    "In this scenario, we simulate a strategy where we pay more than the minimum requirement: an additional 100, split between the two loans.\n",
    "\n",
    "This helps us understand:\n",
    "- The impact of additional payments on total interest.\n",
    "- How much the loan duration is reduced compared to the baseline.\n",
    "\n",
    "We again simulate both loans independently but with boosted payments."
   ]
  },
  {
   "cell_type": "code",
   "execution_count": null,
   "metadata": {},
   "outputs": [
    {
     "name": "stdout",
     "output_type": "stream",
     "text": [
      "BSC\n",
      "Number of months: 1594\n",
      "Number of years: 132.83333333333334\n",
      "Total amount of interst paid: 164449.80987678742\n",
      "MSC\n",
      "Number of months: 43\n",
      "Number of years: 3.5833333333333335\n",
      "Total amount of interst paid: 1664.6232815408466\n"
     ]
    }
   ],
   "source": [
    "principal_bsc = 34767.08 \n",
    "principal_msc = 12108.60  \n",
    "monthly_rate_bsc = 4.3 / 100 / 12\n",
    "monthly_rate_msc = 7.3 / 100 / 12\n",
    "monthly_payment_bsc = 320\n",
    "monthly_payment_msc = 220\n",
    "\n",
    "months_bsc, total_interest_bsc = simulate_loan(principal=principal_bsc, monthly_interest_rate=monthly_rate_bsc, monthly_payment=monthly_payment_bsc)\n",
    "months_msc, total_interest_msc = simulate_loan(principal=principal_msc, monthly_interest_rate=monthly_rate_msc, monthly_payment=monthly_payment_msc)\n",
    "\n",
    "print(\"BSC\")\n",
    "print(f\"Number of months: {months_bsc}\")\n",
    "print(f\"Number of years: {months_bsc/12}\")\n",
    "print(f\"Total amount of interst paid: {total_interest_bsc}\")\n",
    "\n",
    "print(\"MSC\")\n",
    "print(f\"Number of months: {months_msc}\")\n",
    "print(f\"Number of years: {months_msc/12}\")\n",
    "print(f\"Total amount of interst paid: {total_interest_msc}\")"
   ]
  },
  {
   "cell_type": "markdown",
   "metadata": {},
   "source": [
    "## Optimization: Finding the Best Split of Payments\n",
    "\n",
    "In this block, we test various splits of the total payment between BSc and MSc loans. For each allocation:\n",
    "- We simulate the joint repayment using `simulate_loans`.\n",
    "- We ensure each allocation satisfies the minimum interest coverage.\n",
    "- We track the combination that results in the fewest repayment months.\n",
    "\n",
    "The result tells us the **optimal payment allocation** strategy that minimizes the total time needed to pay off both loans."
   ]
  },
  {
   "cell_type": "code",
   "execution_count": 55,
   "metadata": {},
   "outputs": [],
   "source": [
    "def simulate_loans(principal_bsc, principal_msc, \n",
    "                   monthly_rate_bsc, monthly_rate_msc, \n",
    "                   payment_bsc, payment_msc, total_payment):\n",
    "    \"\"\"\n",
    "    Simulate paying two loans concurrently with a fixed total monthly payment.\n",
    "    If one loan is paid off, its allocated payment is added to the other loan.\n",
    "    \n",
    "    Returns:\n",
    "        months: Total months needed to pay off both loans.\n",
    "        total_interest: Total interest paid over the life of the loans.\n",
    "    \"\"\"\n",
    "    months = 0\n",
    "    total_interest = 0.0\n",
    "\n",
    "    # Loop until both loans are fully paid off.\n",
    "    while principal_bsc > 1e-2 or principal_msc > 1e-2:\n",
    "        months += 1\n",
    "        \n",
    "        # Accrue interest for each loan that is still active.\n",
    "        if principal_bsc > 0:\n",
    "            interest_bsc = principal_bsc * monthly_rate_bsc\n",
    "            principal_bsc += interest_bsc\n",
    "            total_interest += interest_bsc\n",
    "        else:\n",
    "            interest_bsc = 0\n",
    "        \n",
    "        if principal_msc > 0:\n",
    "            interest_msc = principal_msc * monthly_rate_msc\n",
    "            principal_msc += interest_msc\n",
    "            total_interest += interest_msc\n",
    "        else:\n",
    "            interest_msc = 0\n",
    "        \n",
    "        # Reallocate payment: if one loan is paid off, the full total_payment goes to the other.\n",
    "        if principal_bsc <= 0 and principal_msc > 0:\n",
    "            pay_bsc = 0\n",
    "            pay_msc = total_payment\n",
    "        elif principal_msc <= 0 and principal_bsc > 0:\n",
    "            pay_bsc = total_payment\n",
    "            pay_msc = 0\n",
    "        else:\n",
    "            pay_bsc = payment_bsc\n",
    "            pay_msc = payment_msc\n",
    "        \n",
    "        # Apply payments (ensure we don't go below zero).\n",
    "        principal_bsc = max(0, principal_bsc - pay_bsc)\n",
    "        principal_msc = max(0, principal_msc - pay_msc)\n",
    "    \n",
    "    return months, total_interest"
   ]
  },
  {
   "cell_type": "code",
   "execution_count": null,
   "metadata": {},
   "outputs": [
    {
     "name": "stdout",
     "output_type": "stream",
     "text": [
      "Optimal payment BSc: 120\n",
      "Optimal payment MSc: 330\n",
      "Total months to pay off: 40\n",
      "Total interest paid: 1856.26\n"
     ]
    }
   ],
   "source": [
    "# Loan parameters\n",
    "total_payment = 450\n",
    "principal_bsc = 3767.08 \n",
    "principal_msc = 12108.60  \n",
    "monthly_rate_bsc = 4.3 / 100 / 12\n",
    "monthly_rate_msc = 7.3 / 100 / 12\n",
    "\n",
    "# To find the best initial split we test various values for the payment to BSc.\n",
    "best = None\n",
    "\n",
    "for payment_bsc in range(120, 140):  # Trying different splits for BSc loan.\n",
    "    payment_msc = total_payment - payment_bsc\n",
    "\n",
    "    # Check that each monthly payment is at least more than the monthly interest,\n",
    "    # otherwise the principal will never decrease.\n",
    "    if payment_bsc <= principal_bsc * monthly_rate_bsc or payment_msc <= principal_msc * monthly_rate_msc:\n",
    "        continue\n",
    "\n",
    "    # Run the simulation with this payment split.\n",
    "    months, interest = simulate_loans(principal_bsc, principal_msc, \n",
    "                                      monthly_rate_bsc, monthly_rate_msc, \n",
    "                                      payment_bsc, payment_msc, total_payment)\n",
    "    \n",
    "    # Record the best result (e.g. minimal months).\n",
    "    if best is None or months < best[\"months\"]:\n",
    "        best = {\"months\": months,\n",
    "                \"total_interest\": interest,\n",
    "                \"payment_bsc\": payment_bsc,\n",
    "                \"payment_msc\": payment_msc}\n",
    "\n",
    "if best:\n",
    "    print(f\"Optimal payment BSc: {best['payment_bsc']}\")\n",
    "    print(f\"Optimal payment MSc: {best['payment_msc']}\")\n",
    "    print(f\"Total months to pay off: {best['months']}\")\n",
    "    print(f\"Total interest paid: {best['total_interest']:.2f}\")\n",
    "else:\n",
    "    print(\"No valid payment split found.\")"
   ]
  }
 ],
 "metadata": {
  "kernelspec": {
   "display_name": "base",
   "language": "python",
   "name": "python3"
  },
  "language_info": {
   "codemirror_mode": {
    "name": "ipython",
    "version": 3
   },
   "file_extension": ".py",
   "mimetype": "text/x-python",
   "name": "python",
   "nbconvert_exporter": "python",
   "pygments_lexer": "ipython3",
   "version": "3.11.7"
  }
 },
 "nbformat": 4,
 "nbformat_minor": 2
}
